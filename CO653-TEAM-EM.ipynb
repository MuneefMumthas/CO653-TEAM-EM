{
 "cells": [
  {
   "cell_type": "markdown",
   "metadata": {},
   "source": [
    "CO653 - Learning Machines and Intelligent Agents\n",
    "\n",
    "Team mates:\n",
    "\n",
    "Muneef - 22206529\n",
    "\n",
    "Entwan - 22135347\n"
   ]
  },
  {
   "cell_type": "code",
   "execution_count": 1,
   "metadata": {},
   "outputs": [],
   "source": [
    "#test"
   ]
  },
  {
   "cell_type": "code",
   "execution_count": null,
   "metadata": {},
   "outputs": [],
   "source": [
    "#haha\n",
    "#changes\n",
    "\n",
    "#changeds munnn\n"
   ]
  }
 ],
 "metadata": {
  "kernelspec": {
   "display_name": "Python 3",
   "language": "python",
   "name": "python3"
  },
  "language_info": {
   "codemirror_mode": {
    "name": "ipython",
    "version": 3
   },
   "file_extension": ".py",
   "mimetype": "text/x-python",
   "name": "python",
   "nbconvert_exporter": "python",
   "pygments_lexer": "ipython3",
   "version": "3.13.0"
  }
 },
 "nbformat": 4,
 "nbformat_minor": 2
}
