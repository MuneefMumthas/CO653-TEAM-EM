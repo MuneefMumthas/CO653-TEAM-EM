{
 "cells": [
  {
   "cell_type": "code",
   "execution_count": 1,
   "id": "fb0891df",
   "metadata": {},
   "outputs": [],
   "source": [
    "import pandas as pd\n",
    "import joblib\n",
    "import numpy as np\n",
    "import category_encoders "
   ]
  },
  {
   "cell_type": "code",
   "execution_count": 2,
   "id": "2af961df",
   "metadata": {},
   "outputs": [],
   "source": [
    "mestimate_encoder = joblib.load(\"pages/pkl/mestimate_encoder.pkl\")"
   ]
  },
  {
   "cell_type": "code",
   "execution_count": null,
   "id": "3a2a96a8",
   "metadata": {},
   "outputs": [],
   "source": []
  }
 ],
 "metadata": {
  "kernelspec": {
   "display_name": "Python 3",
   "language": "python",
   "name": "python3"
  },
  "language_info": {
   "codemirror_mode": {
    "name": "ipython",
    "version": 3
   },
   "file_extension": ".py",
   "mimetype": "text/x-python",
   "name": "python",
   "nbconvert_exporter": "python",
   "pygments_lexer": "ipython3",
   "version": "3.11.9"
  }
 },
 "nbformat": 4,
 "nbformat_minor": 5
}
